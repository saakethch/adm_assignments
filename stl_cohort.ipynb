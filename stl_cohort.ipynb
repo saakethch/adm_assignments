{
 "cells": [
  {
   "cell_type": "code",
   "execution_count": 14,
   "metadata": {},
   "outputs": [],
   "source": [
    "import pandas as pd\n",
    "import numpy as np\n",
    "import datetime as dt\n",
    "\n",
    "def get_month(x):\n",
    "    x = x.split(\"-\")\n",
    "    return dt.datetime(int(x[0]), int(x[1]), 1)\n",
    "transaction_df = pd.read_csv(\"kpmg_transactions.csv\")\n",
    "\n",
    "# Process data\n",
    "transaction_df = transaction_df.replace(\" \", np.NaN)\n",
    "transaction_df[\"TransactionMonth\"] = transaction_df[\"transaction_date\"].apply(\n",
    "    get_month\n",
    ")\n",
    "transaction_df[\"TransactionYear\"] = transaction_df[\"TransactionMonth\"].dt.year"
   ]
  },
  {
   "cell_type": "code",
   "execution_count": null,
   "metadata": {},
   "outputs": [],
   "source": []
  }
 ],
 "metadata": {
  "kernelspec": {
   "display_name": "env",
   "language": "python",
   "name": "python3"
  },
  "language_info": {
   "codemirror_mode": {
    "name": "ipython",
    "version": 3
   },
   "file_extension": ".py",
   "mimetype": "text/x-python",
   "name": "python",
   "nbconvert_exporter": "python",
   "pygments_lexer": "ipython3",
   "version": "3.8.0"
  },
  "orig_nbformat": 4,
  "vscode": {
   "interpreter": {
    "hash": "18e24d677e33ff0b4b95185b01d0172862852d40658ccb4d9d4bdf06638c542e"
   }
  }
 },
 "nbformat": 4,
 "nbformat_minor": 2
}
